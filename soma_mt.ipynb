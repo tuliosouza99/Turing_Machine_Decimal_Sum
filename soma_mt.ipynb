{
 "cells": [
  {
   "cell_type": "code",
   "execution_count": 2,
   "metadata": {
    "ExecuteTime": {
     "end_time": "2020-08-05T21:02:06.540244Z",
     "start_time": "2020-08-05T21:02:06.535258Z"
    }
   },
   "outputs": [],
   "source": [
    "import itertools"
   ]
  },
  {
   "cell_type": "markdown",
   "metadata": {
    "heading_collapsed": true
   },
   "source": [
    "# Transform every 2-number combination in a sum of these numbers"
   ]
  },
  {
   "cell_type": "code",
   "execution_count": 1,
   "metadata": {
    "ExecuteTime": {
     "end_time": "2020-08-05T21:02:03.542240Z",
     "start_time": "2020-08-05T21:02:03.531301Z"
    },
    "hidden": true
   },
   "outputs": [],
   "source": [
    "def adds():\n",
    "    keys=[]\n",
    "    values=[]\n",
    "    key = ''\n",
    "    for element in itertools.product([0,1,2,3,4,5,6,7,8,9], [0,1,2,3,4,5,6,7,8,9]):\n",
    "        keys.append(key.join(str(e) for e in element))\n",
    "        values.append(str(sum(element)))\n",
    "    d_adds = dict(zip(keys, values))\n",
    "    return d_adds"
   ]
  },
  {
   "cell_type": "markdown",
   "metadata": {
    "heading_collapsed": true
   },
   "source": [
    "# If the sum is superior to 10, subtract by 10"
   ]
  },
  {
   "cell_type": "code",
   "execution_count": 4,
   "metadata": {
    "ExecuteTime": {
     "end_time": "2020-08-05T21:06:40.912867Z",
     "start_time": "2020-08-05T21:06:40.903891Z"
    },
    "hidden": true
   },
   "outputs": [],
   "source": [
    "def sub_ten():\n",
    "    keys = ['10', '11', '12', '13', '14', '15', '16', '17', '18', '19']\n",
    "    values = ['0', '1', '2', '3', '4', '5', '6', '7', '8', '9']\n",
    "    \n",
    "    d_sub_ten = dict(zip(keys, values))\n",
    "    return d_sub_ten"
   ]
  },
  {
   "cell_type": "markdown",
   "metadata": {
    "heading_collapsed": true
   },
   "source": [
    "# Add 1 to the digit next to the subtracted by 10 digit"
   ]
  },
  {
   "cell_type": "code",
   "execution_count": 5,
   "metadata": {
    "ExecuteTime": {
     "end_time": "2020-08-05T21:07:09.440956Z",
     "start_time": "2020-08-05T21:07:09.432459Z"
    },
    "hidden": true
   },
   "outputs": [],
   "source": [
    "def add_one():\n",
    "    keys = ['1', '2', '3', '4', '5', '6', '7', '8', '9',\n",
    "           '10', '11', '12', '13', '14', '15', '16', '17', '18']\n",
    "    \n",
    "    values = ['2', '3', '4', '5', '6', '7', '8', '9', '10', \n",
    "             '11', '12', '13', '14', '15', '16', '17', '18', '19']\n",
    "    \n",
    "    d_add_one = dict(zip(keys, values))\n",
    "    return d_add_one"
   ]
  },
  {
   "cell_type": "markdown",
   "metadata": {
    "heading_collapsed": true
   },
   "source": [
    "# Main"
   ]
  },
  {
   "cell_type": "code",
   "execution_count": 8,
   "metadata": {
    "ExecuteTime": {
     "end_time": "2020-08-05T21:19:42.610651Z",
     "start_time": "2020-08-05T21:19:36.403775Z"
    },
    "hidden": true
   },
   "outputs": [
    {
     "name": "stdout",
     "output_type": "stream",
     "text": [
      "Input the addition operation. Format: 'n1+n2', where n1 and n2 are integers\n",
      "789999+45267\n",
      "789999+45267=835266\n"
     ]
    }
   ],
   "source": [
    "s = input(\"Input the addition operation. Format: 'n1+n2', where n1 and n2 are integers\\n\")\n",
    "p_pos = s.find('+')\n",
    "add = []\n",
    "i = 1\n",
    "j = 1\n",
    "\n",
    "# Iterate over the two operands\n",
    "while(p_pos-i>=0 and s[-j]!='+'):\n",
    "    n1 = s[p_pos-i]\n",
    "    n2 = s[-j]\n",
    "    k = n1+n2\n",
    "    add.append(k)\n",
    "    i+=1\n",
    "    j+=1\n",
    "# Iterate only over the first operand if the second is already done\n",
    "# Add zero to find key\n",
    "while(p_pos-i >= 0):\n",
    "    k = s[p_pos-i]+'0'\n",
    "    add.append(k)\n",
    "    i+=1\n",
    "# Iterate only over the second operand if the first is already done\n",
    "while(s[-j] != '+'):\n",
    "    k = '0'+s[-j]\n",
    "    add.append(k)\n",
    "    j+=1\n",
    "\n",
    "d_adds = adds()\n",
    "# Apply adds' dict\n",
    "for i in range(len(add)):\n",
    "    add[i] = d_adds[add[i]]\n",
    "    \n",
    "d_sub_ten = sub_ten()\n",
    "d_add_one = add_one()\n",
    "# Apply sub_ten's and add_one's dicts\n",
    "for i in range(len(add)):\n",
    "    j = i+1\n",
    "    if add[i] in d_sub_ten:\n",
    "        if j < len(add):\n",
    "            add[i] = d_sub_ten[add[i]]\n",
    "            add[j] = d_add_one[add[j]]\n",
    "            \n",
    "# Output\n",
    "s_add = ''\n",
    "for i in reversed(add):\n",
    "    s_add+=i\n",
    "s = s + '=' + s_add\n",
    "print(s)"
   ]
  },
  {
   "cell_type": "code",
   "execution_count": null,
   "metadata": {
    "hidden": true
   },
   "outputs": [],
   "source": []
  }
 ],
 "metadata": {
  "kernelspec": {
   "display_name": "Python 3",
   "language": "python",
   "name": "python3"
  },
  "language_info": {
   "codemirror_mode": {
    "name": "ipython",
    "version": 3
   },
   "file_extension": ".py",
   "mimetype": "text/x-python",
   "name": "python",
   "nbconvert_exporter": "python",
   "pygments_lexer": "ipython3",
   "version": "3.7.4"
  },
  "varInspector": {
   "cols": {
    "lenName": 16,
    "lenType": 16,
    "lenVar": 40
   },
   "kernels_config": {
    "python": {
     "delete_cmd_postfix": "",
     "delete_cmd_prefix": "del ",
     "library": "var_list.py",
     "varRefreshCmd": "print(var_dic_list())"
    },
    "r": {
     "delete_cmd_postfix": ") ",
     "delete_cmd_prefix": "rm(",
     "library": "var_list.r",
     "varRefreshCmd": "cat(var_dic_list()) "
    }
   },
   "types_to_exclude": [
    "module",
    "function",
    "builtin_function_or_method",
    "instance",
    "_Feature"
   ],
   "window_display": false
  }
 },
 "nbformat": 4,
 "nbformat_minor": 4
}
